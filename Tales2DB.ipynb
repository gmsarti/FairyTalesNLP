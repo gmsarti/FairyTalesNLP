{
  "nbformat": 4,
  "nbformat_minor": 0,
  "metadata": {
    "colab": {
      "provenance": [],
      "authorship_tag": "ABX9TyMXxIR0z/7Q4No5agSUDVC2",
      "include_colab_link": true
    },
    "kernelspec": {
      "name": "python3",
      "display_name": "Python 3"
    },
    "language_info": {
      "name": "python"
    }
  },
  "cells": [
    {
      "cell_type": "markdown",
      "metadata": {
        "id": "view-in-github",
        "colab_type": "text"
      },
      "source": [
        "<a href=\"https://colab.research.google.com/github/gmsarti/FairyTalesNLP/blob/main/Tales2DB.ipynb\" target=\"_parent\"><img src=\"https://colab.research.google.com/assets/colab-badge.svg\" alt=\"Open In Colab\"/></a>"
      ]
    },
    {
      "cell_type": "markdown",
      "source": [
        "# Tales2DB\n",
        "Neste experimento contos de fadas vão passar por um pipeline de processamento de linguagem natural (NLP).\n",
        "\n",
        "Parts of the process\n",
        "*   Scrape tales\n",
        "*   Extract information\n",
        "*   Save data in database\n",
        "*   Create original tales and save them\n",
        "*   Make an web app with Streamlit\n",
        "<br />\n",
        "<br />\n",
        "---\n",
        "<br />\n",
        "\n",
        "The process of extracting information is central to this process, so it will be the first developed.\n"
      ],
      "metadata": {
        "id": "XNsOYbxHuhg1"
      }
    },
    {
      "cell_type": "code",
      "source": [
        "# IMPORTS\n",
        "\n",
        "import requests, sqlite3, pandas as pd, spacy, random\n",
        "from bs4 import BeautifulSoup\n",
        "from typing import List\n",
        "from pydantic import BaseModel\n",
        "from pprint import pprint"
      ],
      "metadata": {
        "id": "P76hWtfEfmaz"
      },
      "execution_count": null,
      "outputs": []
    },
    {
      "cell_type": "code",
      "source": [
        "# Load SpaCy model for NER\n",
        "nlp = spacy.load(\"en_core_web_sm\")\n",
        "\n",
        "class TaleInfo(BaseModel):\n",
        "    tale_name: str\n",
        "    tale_story: str\n",
        "    characters: List[str]\n",
        "    animals: List[str]\n",
        "    monsters: List[str]\n",
        "    setting: List[str]\n",
        "    theme: str\n",
        "    category: str\n",
        "    country_of_origin: str\n",
        "    author: str\n",
        "\n",
        "    @classmethod\n",
        "    def from_text(cls, tale_text: str):\n",
        "        # Process the tale text with SpaCy NER\n",
        "        doc = nlp(tale_text)\n",
        "\n",
        "        # Extract entities for characters, animals, monsters, and settings\n",
        "        characters = [ent.text for ent in doc.ents if ent.label_ == \"PERSON\"]\n",
        "        animals = [ent.text for ent in doc.ents if ent.label_ == \"ANIMAL\"]\n",
        "        monsters = [ent.text for ent in doc.ents if ent.label_ == \"MONSTER\"]\n",
        "        setting = [ent.text for ent in doc.ents if ent.label_ == \"LOCATION\"]\n",
        "\n",
        "        # Instantiate the TaleInfo class with extracted information\n",
        "        tale_info = cls(\n",
        "            tale_name=\"Unknown\",\n",
        "            tale_story=tale_text,\n",
        "            characters=characters,\n",
        "            animals=animals,\n",
        "            monsters=monsters,\n",
        "            setting=setting,\n",
        "            theme=\"Unknown\",\n",
        "            category=\"Unknown\",\n",
        "            country_of_origin=\"Unknown\",\n",
        "            author=\"Unknown\",\n",
        "        )\n",
        "\n",
        "        return tale_info\n",
        "\n",
        "# Example usage:\n",
        "tale_text_example = \"\"\"\n",
        "Once upon a time, in a kingdom far, far away, there lived a brave knight named Sir Lancelot.\n",
        "He embarked on a quest to defeat the fire-breathing dragon that terrorized the land.\n",
        "Accompanying him were his loyal steed, Thunder, and the wise wizard Merlin.\n",
        "\"\"\"\n",
        "\n",
        "tale_info = TaleInfo.from_text(tale_text_example)\n",
        "\n",
        "# Accessing the extracted information\n",
        "pprint(tale_info.dict())\n"
      ],
      "metadata": {
        "colab": {
          "base_uri": "https://localhost:8080/"
        },
        "id": "L6rSLDGtSqea",
        "outputId": "3a938872-c271-497a-970a-05f658304a19"
      },
      "execution_count": null,
      "outputs": [
        {
          "output_type": "stream",
          "name": "stdout",
          "text": [
            "{'animals': [],\n",
            " 'author': 'Unknown',\n",
            " 'category': 'Unknown',\n",
            " 'characters': ['Lancelot', 'Merlin'],\n",
            " 'country_of_origin': 'Unknown',\n",
            " 'monsters': [],\n",
            " 'setting': [],\n",
            " 'tale_name': 'Unknown',\n",
            " 'tale_story': '\\n'\n",
            "               'Once upon a time, in a kingdom far, far away, there lived a '\n",
            "               'brave knight named Sir Lancelot. \\n'\n",
            "               'He embarked on a quest to defeat the fire-breathing dragon '\n",
            "               'that terrorized the land. \\n'\n",
            "               'Accompanying him were his loyal steed, Thunder, and the wise '\n",
            "               'wizard Merlin.\\n',\n",
            " 'theme': 'Unknown'}\n"
          ]
        }
      ]
    },
    {
      "cell_type": "markdown",
      "source": [
        "Some of the desired categories in NER did not bring results and even *Merlin*'s name did not appear. Let's fine-tune the NER model to add the new categories."
      ],
      "metadata": {
        "id": "_yj6ORTExDKg"
      }
    },
    {
      "cell_type": "code",
      "source": [
        "import random\n",
        "\n",
        "# Lists of entities\n",
        "monsters_and_creatures = [\n",
        "    \"Dragon\", \"Witch\", \"Goblin\", \"Troll\", \"Werewolf\", \"Vampire\", \"Zombie\", \"Ghost\", \"Ogre\", \"Cyclops\",\n",
        "    \"Banshee\", \"Minotaur\", \"Griffin\", \"Harpy\", \"Chimera\", \"Basilisk\", \"Sphinx\", \"Kelpie\", \"Siren\", \"Cerberus\",\n",
        "    \"Kraken\", \"Medusa\", \"Djinn\", \"Fairy\", \"Elf\", \"Dwarf\", \"Giant\", \"Mermaid\", \"Centaur\", \"Pegasus\", \"Unicorn\",\n",
        "    \"Phoenix\", \"Leprechaun\", \"Changeling\", \"Kobold\", \"Nymph\", \"Satyr\", \"Succubus\", \"Incubus\", \"Banshee\",\n",
        "    \"Boggart\", \"Imp\", \"Hobgoblin\", \"Will-o'-the-Wisp\", \"Yeti\", \"Chupacabra\", \"Manticore\", \"Wendigo\", \"Baba Yaga\"\n",
        "]\n",
        "\n",
        "places_and_settlements = [\n",
        "    \"Castle\", \"Kingdom\", \"Forest\", \"Cottage\", \"Enchanted Garden\", \"Village\", \"Town\", \"City\", \"Mountain\",\n",
        "    \"Valley\", \"Cave\", \"Lake\", \"River\", \"Island\", \"Desert\", \"Palace\", \"Mansion\", \"Tower\", \"Bridge\", \"Well\",\n",
        "    \"Meadow\", \"Moor\", \"Labyrinth\", \"Marketplace\", \"School of Magic\", \"Wishing Well\", \"Witch's Hut\", \"Haunted House\",\n",
        "    \"Underground Kingdom\", \"Underwater City\", \"Floating Island\", \"Fairy Ring\", \"Secret Garden\", \"Ice Palace\",\n",
        "    \"Gingerbread House\", \"Cloud Castle\", \"Golden City\", \"Lost City\", \"Oasis\", \"Forbidden City\", \"Whimsical Wonderland\",\n",
        "    \"Sky Kingdom\", \"Dark Forest\", \"Crystal Caves\", \"Dreamscape\", \"Starlit Observatory\", \"Timeless Realm\", \"Celestial Citadel\"\n",
        "]\n",
        "\n",
        "common_animals_in_fairy_tales = [\n",
        "    \"Wolf\", \"Bear\", \"Lion\", \"Monkey\", \"Elephant\", \"Cheetah\", \"Penguin\", \"Eagle\", \"Giraffe\", \"Whale\", \"Kangaroo\",\n",
        "    \"Bee\", \"Panda\", \"Tiger\", \"Crocodile\", \"Koala\", \"Butterfly\", \"Frog\", \"Owl\", \"Mouse\", \"Cat\", \"Dog\", \"Horse\",\n",
        "    \"Donkey\", \"Rabbit\", \"Squirrel\", \"Fox\", \"Deer\", \"Hedgehog\", \"Turtle\", \"Snail\", \"Dragonfly\", \"Swan\", \"Fish\",\n",
        "    \"Shark\", \"Octopus\", \"Crab\", \"Dolphin\", \"Seagull\", \"Peacock\", \"Parrot\", \"Snake\", \"Spider\", \"Bat\", \"Caterpillar\",\n",
        "    \"Ladybug\", \"Ant\", \"Hummingbird\"\n",
        "]\n",
        "\n",
        "# Function to create training examples\n",
        "def create_training_examples(entity_list, label):\n",
        "    examples = []\n",
        "    sentence_templates = [\n",
        "        \"The {0} was seen near the {1}.\",\n",
        "        \"{1} is home to the {0}.\",\n",
        "        \"The {0} is a common character in fairy tales and is often depicted as {2}.\",\n",
        "        \"The {0} and the {3} lived in harmony in the {1}.\",\n",
        "        \"{0} is known for its association with {2} in the {1}.\",\n",
        "        \"In the land of {1}, the {0} is a legendary creature.\",\n",
        "        \"Legends speak of the {0} residing in the enchanted {1}.\",\n",
        "        \"Once upon a time, the {0} roamed freely in the {1}.\",\n",
        "        \"A brave {2} encountered the {0} in the {1}.\",\n",
        "        \"The {0} guarded the {1} with its magical powers.\",\n",
        "        \"The {0} and the {3} were friends in the mystical {1}.\",\n",
        "        \"In the heart of the {1}, a {2} met the {0}.\",\n",
        "        \"Children often dream of meeting the {0} in the {1}.\",\n",
        "        \"The {0} was known to dwell near the {1}.\",\n",
        "        \"The {0} was a fearsome creature in the {1}.\",\n",
        "        \"Legends tell of the {0}'s presence in the {1}.\",\n",
        "        \"Once upon a time, the {0} and the {3} coexisted in the {1}.\",\n",
        "        \"The magical {1} was home to the {0}.\",\n",
        "        \"A {2} encountered the {0} in the {1}.\"\n",
        "    ]\n",
        "\n",
        "    for entity in entity_list:\n",
        "        # Generate 5 random sentences for each entity\n",
        "        for _ in range(5):\n",
        "            sentence_template = random.choice(sentence_templates)\n",
        "            sentence = sentence_template.format(entity, random.choice(places_and_settlements), random.choice(monsters_and_creatures), random.choice(common_animals_in_fairy_tales))\n",
        "\n",
        "            # Extract positions for all occurrences of the entity in the sentence\n",
        "            entities_positions = [(i, i + len(entity), label) for i in range(len(sentence)) if sentence.startswith(entity, i)]\n",
        "\n",
        "            examples.append((sentence, {\"entities\": entities_positions}))\n",
        "\n",
        "    return examples\n",
        "\n",
        "# Create training data for each category\n",
        "character_examples = create_training_examples(monsters_and_creatures, \"CHARACTER\")\n",
        "animal_examples = create_training_examples(common_animals_in_fairy_tales, \"ANIMAL\")\n",
        "monster_examples = create_training_examples(monsters_and_creatures, \"MONSTER\")\n",
        "setting_examples = create_training_examples(places_and_settlements, \"SETTING\")\n",
        "\n",
        "# Combine all examples\n",
        "train_data = character_examples + animal_examples + monster_examples + setting_examples\n",
        "\n",
        "# Shuffle the training data\n",
        "random.shuffle(train_data)\n",
        "\n",
        "# Print a sample of the training data\n",
        "for example in train_data[:10]:\n",
        "    print(example)\n"
      ],
      "metadata": {
        "colab": {
          "base_uri": "https://localhost:8080/"
        },
        "id": "W6Rz8G3G8264",
        "outputId": "2ec0324c-bbda-4868-877f-9e78985bab06"
      },
      "execution_count": 9,
      "outputs": [
        {
          "output_type": "stream",
          "name": "stdout",
          "text": [
            "('The Kobold and the Butterfly were friends in the mystical Oasis.', {'entities': [(4, 10, 'CHARACTER')]})\n",
            "('Children often dream of meeting the Kobold in the Enchanted Garden.', {'entities': [(36, 42, 'MONSTER')]})\n",
            "('In the land of Cloud Castle, the Dragon is a legendary creature.', {'entities': [(33, 39, 'MONSTER')]})\n",
            "('The Lion was seen near the Valley.', {'entities': [(4, 8, 'ANIMAL')]})\n",
            "('The Banshee was a fearsome creature in the Floating Island.', {'entities': [(4, 11, 'MONSTER')]})\n",
            "('A brave Changeling encountered the Snake in the Underwater City.', {'entities': [(35, 40, 'ANIMAL')]})\n",
            "('Celestial Citadel is home to the Seagull.', {'entities': [(33, 40, 'ANIMAL')]})\n",
            "('Lost City is home to the Wendigo.', {'entities': [(25, 32, 'MONSTER')]})\n",
            "('Once upon a time, the Manticore roamed freely in the Haunted House.', {'entities': [(22, 31, 'MONSTER')]})\n",
            "('The magical Town was home to the Fox.', {'entities': [(33, 36, 'ANIMAL')]})\n"
          ]
        }
      ]
    },
    {
      "cell_type": "code",
      "source": [
        "print(len(train_data))\n",
        "train_data[55:60]"
      ],
      "metadata": {
        "colab": {
          "base_uri": "https://localhost:8080/"
        },
        "id": "dfbABzOx4P8v",
        "outputId": "ee4d7aae-aefb-48a1-cfda-662c73edd9a0"
      },
      "execution_count": 10,
      "outputs": [
        {
          "output_type": "stream",
          "name": "stdout",
          "text": [
            "970\n"
          ]
        },
        {
          "output_type": "execute_result",
          "data": {
            "text/plain": [
              "[(\"The Witch's Hut was known to dwell near the Sky Kingdom.\",\n",
              "  {'entities': [(4, 15, 'SETTING')]}),\n",
              " ('The Snail and the Cat were friends in the mystical Golden City.',\n",
              "  {'entities': [(4, 9, 'ANIMAL')]}),\n",
              " ('The Chimera was known to dwell near the Valley.',\n",
              "  {'entities': [(4, 11, 'CHARACTER')]}),\n",
              " ('The Leprechaun is a common character in fairy tales and is often depicted as Phoenix.',\n",
              "  {'entities': [(4, 14, 'CHARACTER')]}),\n",
              " ('The Incubus was known to dwell near the Lost City.',\n",
              "  {'entities': [(4, 11, 'MONSTER')]})]"
            ]
          },
          "metadata": {},
          "execution_count": 10
        }
      ]
    },
    {
      "cell_type": "code",
      "source": [
        "train_data = [\n",
        "    (\"There is a lion in the savannah.\", {\"entities\": [(15, 19, \"ANIMAL\")]}),\n",
        "    (\"The monkey swung from tree to tree.\", {\"entities\": [(4, 10, \"ANIMAL\")]}),\n",
        "    (\"A group of elephants gathered at the watering hole.\", {\"entities\": [(12, 20, \"ANIMAL\")]}),\n",
        "    (\"The cheetah is the fastest land animal.\", {\"entities\": [(4, 10, \"ANIMAL\")]}),\n",
        "    (\"Penguins waddle on the icy shores.\", {\"entities\": [(0, 7, \"ANIMAL\")]}),\n",
        "    (\"The eagle soared high in the sky.\", {\"entities\": [(4, 9, \"ANIMAL\")]}),\n",
        "    (\"Giraffes have long necks and distinctive spotted coats.\", {\"entities\": [(0, 7, \"ANIMAL\")]}),\n",
        "    (\"The whale breached the surface of the ocean.\", {\"entities\": [(4, 9, \"ANIMAL\")]}),\n",
        "    (\"Kangaroos are known for their powerful hind legs.\", {\"entities\": [(0, 8, \"ANIMAL\")]}),\n",
        "    (\"A swarm of bees buzzed around the hive.\", {\"entities\": [(9, 12, \"ANIMAL\")]}),\n",
        "    (\"The panda peacefully ate bamboo in the bamboo forest.\", {\"entities\": [(4, 9, \"ANIMAL\")]}),\n",
        "    (\"Tigers are majestic creatures with distinctive stripes.\", {\"entities\": [(0, 6, \"ANIMAL\")]}),\n",
        "    (\"The crocodile lurked in the murky waters.\", {\"entities\": [(4, 14, \"ANIMAL\")]}),\n",
        "    (\"The koala slept in the eucalyptus tree.\", {\"entities\": [(4, 9, \"ANIMAL\")]}),\n",
        "    (\"Butterflies fluttered among the flowers.\", {\"entities\": [(0, 9, \"ANIMAL\")]}),\n",
        "    # Add more examples with different animals\n",
        "]\n"
      ],
      "metadata": {
        "id": "FTQpiH9wsnuw"
      },
      "execution_count": null,
      "outputs": []
    },
    {
      "cell_type": "code",
      "source": [
        "ner = nlp.get_pipe(\"ner\")\n",
        "ner.add_label(\"ANIMAL\")\n",
        "\n",
        "\n",
        "from spacy.training.example import Example\n",
        "\n",
        "# Fine-tune the model\n",
        "epochs = 10\n",
        "for epoch in range(epochs):\n",
        "    for text, annotations in train_data:\n",
        "        doc = nlp.make_doc(text)\n",
        "        example = Example.from_dict(doc, annotations)\n",
        "        nlp.update([example], drop=0.5)  # Set drop to a value between 0.0 and 1.0 for dropout regularization\n"
      ],
      "metadata": {
        "colab": {
          "base_uri": "https://localhost:8080/"
        },
        "id": "zGvIWdjvqHY_",
        "outputId": "065c712e-ffa8-43fa-d773-71e534afc84e"
      },
      "execution_count": null,
      "outputs": [
        {
          "output_type": "stream",
          "name": "stderr",
          "text": [
            "/usr/local/lib/python3.10/dist-packages/spacy/training/iob_utils.py:149: UserWarning: [W030] Some entities could not be aligned in the text \"There is a lion in the savannah.\" with entities \"[(15, 19, 'ANIMAL')]\". Use `spacy.training.offsets_to_biluo_tags(nlp.make_doc(text), entities)` to check the alignment. Misaligned entities ('-') will be ignored during training.\n",
            "  warnings.warn(\n",
            "/usr/local/lib/python3.10/dist-packages/spacy/training/iob_utils.py:149: UserWarning: [W030] Some entities could not be aligned in the text \"A group of elephants gathered at the watering hole...\" with entities \"[(12, 20, 'ANIMAL')]\". Use `spacy.training.offsets_to_biluo_tags(nlp.make_doc(text), entities)` to check the alignment. Misaligned entities ('-') will be ignored during training.\n",
            "  warnings.warn(\n",
            "/usr/local/lib/python3.10/dist-packages/spacy/training/iob_utils.py:149: UserWarning: [W030] Some entities could not be aligned in the text \"The cheetah is the fastest land animal.\" with entities \"[(4, 10, 'ANIMAL')]\". Use `spacy.training.offsets_to_biluo_tags(nlp.make_doc(text), entities)` to check the alignment. Misaligned entities ('-') will be ignored during training.\n",
            "  warnings.warn(\n",
            "/usr/local/lib/python3.10/dist-packages/spacy/training/iob_utils.py:149: UserWarning: [W030] Some entities could not be aligned in the text \"Penguins waddle on the icy shores.\" with entities \"[(0, 7, 'ANIMAL')]\". Use `spacy.training.offsets_to_biluo_tags(nlp.make_doc(text), entities)` to check the alignment. Misaligned entities ('-') will be ignored during training.\n",
            "  warnings.warn(\n",
            "/usr/local/lib/python3.10/dist-packages/spacy/training/iob_utils.py:149: UserWarning: [W030] Some entities could not be aligned in the text \"Giraffes have long necks and distinctive spotted c...\" with entities \"[(0, 7, 'ANIMAL')]\". Use `spacy.training.offsets_to_biluo_tags(nlp.make_doc(text), entities)` to check the alignment. Misaligned entities ('-') will be ignored during training.\n",
            "  warnings.warn(\n",
            "/usr/local/lib/python3.10/dist-packages/spacy/training/iob_utils.py:149: UserWarning: [W030] Some entities could not be aligned in the text \"Kangaroos are known for their powerful hind legs.\" with entities \"[(0, 8, 'ANIMAL')]\". Use `spacy.training.offsets_to_biluo_tags(nlp.make_doc(text), entities)` to check the alignment. Misaligned entities ('-') will be ignored during training.\n",
            "  warnings.warn(\n",
            "/usr/local/lib/python3.10/dist-packages/spacy/training/iob_utils.py:149: UserWarning: [W030] Some entities could not be aligned in the text \"A swarm of bees buzzed around the hive.\" with entities \"[(9, 12, 'ANIMAL')]\". Use `spacy.training.offsets_to_biluo_tags(nlp.make_doc(text), entities)` to check the alignment. Misaligned entities ('-') will be ignored during training.\n",
            "  warnings.warn(\n",
            "/usr/local/lib/python3.10/dist-packages/spacy/training/iob_utils.py:149: UserWarning: [W030] Some entities could not be aligned in the text \"The crocodile lurked in the murky waters.\" with entities \"[(4, 14, 'ANIMAL')]\". Use `spacy.training.offsets_to_biluo_tags(nlp.make_doc(text), entities)` to check the alignment. Misaligned entities ('-') will be ignored during training.\n",
            "  warnings.warn(\n",
            "/usr/local/lib/python3.10/dist-packages/spacy/training/iob_utils.py:149: UserWarning: [W030] Some entities could not be aligned in the text \"Butterflies fluttered among the flowers.\" with entities \"[(0, 9, 'ANIMAL')]\". Use `spacy.training.offsets_to_biluo_tags(nlp.make_doc(text), entities)` to check the alignment. Misaligned entities ('-') will be ignored during training.\n",
            "  warnings.warn(\n",
            "/usr/local/lib/python3.10/dist-packages/spacy/training/iob_utils.py:149: UserWarning: [W030] Some entities could not be aligned in the text \"The cheetah is the fastest land animal.\" with entities \"[(4, 10, 'ANIMAL')]\". Use `spacy.training.offsets_to_biluo_tags(nlp.make_doc(text), entities)` to check the alignment. Misaligned entities ('-') will be ignored during training.\n",
            "  warnings.warn(\n",
            "/usr/local/lib/python3.10/dist-packages/spacy/training/iob_utils.py:149: UserWarning: [W030] Some entities could not be aligned in the text \"Penguins waddle on the icy shores.\" with entities \"[(0, 7, 'ANIMAL')]\". Use `spacy.training.offsets_to_biluo_tags(nlp.make_doc(text), entities)` to check the alignment. Misaligned entities ('-') will be ignored during training.\n",
            "  warnings.warn(\n",
            "/usr/local/lib/python3.10/dist-packages/spacy/training/iob_utils.py:149: UserWarning: [W030] Some entities could not be aligned in the text \"Giraffes have long necks and distinctive spotted c...\" with entities \"[(0, 7, 'ANIMAL')]\". Use `spacy.training.offsets_to_biluo_tags(nlp.make_doc(text), entities)` to check the alignment. Misaligned entities ('-') will be ignored during training.\n",
            "  warnings.warn(\n",
            "/usr/local/lib/python3.10/dist-packages/spacy/training/iob_utils.py:149: UserWarning: [W030] Some entities could not be aligned in the text \"Kangaroos are known for their powerful hind legs.\" with entities \"[(0, 8, 'ANIMAL')]\". Use `spacy.training.offsets_to_biluo_tags(nlp.make_doc(text), entities)` to check the alignment. Misaligned entities ('-') will be ignored during training.\n",
            "  warnings.warn(\n",
            "/usr/local/lib/python3.10/dist-packages/spacy/training/iob_utils.py:149: UserWarning: [W030] Some entities could not be aligned in the text \"A swarm of bees buzzed around the hive.\" with entities \"[(9, 12, 'ANIMAL')]\". Use `spacy.training.offsets_to_biluo_tags(nlp.make_doc(text), entities)` to check the alignment. Misaligned entities ('-') will be ignored during training.\n",
            "  warnings.warn(\n",
            "/usr/local/lib/python3.10/dist-packages/spacy/training/iob_utils.py:149: UserWarning: [W030] Some entities could not be aligned in the text \"The crocodile lurked in the murky waters.\" with entities \"[(4, 14, 'ANIMAL')]\". Use `spacy.training.offsets_to_biluo_tags(nlp.make_doc(text), entities)` to check the alignment. Misaligned entities ('-') will be ignored during training.\n",
            "  warnings.warn(\n",
            "/usr/local/lib/python3.10/dist-packages/spacy/training/iob_utils.py:149: UserWarning: [W030] Some entities could not be aligned in the text \"Butterflies fluttered among the flowers.\" with entities \"[(0, 9, 'ANIMAL')]\". Use `spacy.training.offsets_to_biluo_tags(nlp.make_doc(text), entities)` to check the alignment. Misaligned entities ('-') will be ignored during training.\n",
            "  warnings.warn(\n",
            "/usr/local/lib/python3.10/dist-packages/spacy/training/iob_utils.py:149: UserWarning: [W030] Some entities could not be aligned in the text \"There is a lion in the savannah.\" with entities \"[(15, 19, 'ANIMAL')]\". Use `spacy.training.offsets_to_biluo_tags(nlp.make_doc(text), entities)` to check the alignment. Misaligned entities ('-') will be ignored during training.\n",
            "  warnings.warn(\n",
            "/usr/local/lib/python3.10/dist-packages/spacy/training/iob_utils.py:149: UserWarning: [W030] Some entities could not be aligned in the text \"A group of elephants gathered at the watering hole...\" with entities \"[(12, 20, 'ANIMAL')]\". Use `spacy.training.offsets_to_biluo_tags(nlp.make_doc(text), entities)` to check the alignment. Misaligned entities ('-') will be ignored during training.\n",
            "  warnings.warn(\n",
            "/usr/local/lib/python3.10/dist-packages/spacy/training/iob_utils.py:149: UserWarning: [W030] Some entities could not be aligned in the text \"The cheetah is the fastest land animal.\" with entities \"[(4, 10, 'ANIMAL')]\". Use `spacy.training.offsets_to_biluo_tags(nlp.make_doc(text), entities)` to check the alignment. Misaligned entities ('-') will be ignored during training.\n",
            "  warnings.warn(\n",
            "/usr/local/lib/python3.10/dist-packages/spacy/training/iob_utils.py:149: UserWarning: [W030] Some entities could not be aligned in the text \"Penguins waddle on the icy shores.\" with entities \"[(0, 7, 'ANIMAL')]\". Use `spacy.training.offsets_to_biluo_tags(nlp.make_doc(text), entities)` to check the alignment. Misaligned entities ('-') will be ignored during training.\n",
            "  warnings.warn(\n",
            "/usr/local/lib/python3.10/dist-packages/spacy/training/iob_utils.py:149: UserWarning: [W030] Some entities could not be aligned in the text \"Giraffes have long necks and distinctive spotted c...\" with entities \"[(0, 7, 'ANIMAL')]\". Use `spacy.training.offsets_to_biluo_tags(nlp.make_doc(text), entities)` to check the alignment. Misaligned entities ('-') will be ignored during training.\n",
            "  warnings.warn(\n",
            "/usr/local/lib/python3.10/dist-packages/spacy/training/iob_utils.py:149: UserWarning: [W030] Some entities could not be aligned in the text \"Kangaroos are known for their powerful hind legs.\" with entities \"[(0, 8, 'ANIMAL')]\". Use `spacy.training.offsets_to_biluo_tags(nlp.make_doc(text), entities)` to check the alignment. Misaligned entities ('-') will be ignored during training.\n",
            "  warnings.warn(\n",
            "/usr/local/lib/python3.10/dist-packages/spacy/training/iob_utils.py:149: UserWarning: [W030] Some entities could not be aligned in the text \"A swarm of bees buzzed around the hive.\" with entities \"[(9, 12, 'ANIMAL')]\". Use `spacy.training.offsets_to_biluo_tags(nlp.make_doc(text), entities)` to check the alignment. Misaligned entities ('-') will be ignored during training.\n",
            "  warnings.warn(\n",
            "/usr/local/lib/python3.10/dist-packages/spacy/training/iob_utils.py:149: UserWarning: [W030] Some entities could not be aligned in the text \"The crocodile lurked in the murky waters.\" with entities \"[(4, 14, 'ANIMAL')]\". Use `spacy.training.offsets_to_biluo_tags(nlp.make_doc(text), entities)` to check the alignment. Misaligned entities ('-') will be ignored during training.\n",
            "  warnings.warn(\n",
            "/usr/local/lib/python3.10/dist-packages/spacy/training/iob_utils.py:149: UserWarning: [W030] Some entities could not be aligned in the text \"Kangaroos are known for their powerful hind legs.\" with entities \"[(0, 8, 'ANIMAL')]\". Use `spacy.training.offsets_to_biluo_tags(nlp.make_doc(text), entities)` to check the alignment. Misaligned entities ('-') will be ignored during training.\n",
            "  warnings.warn(\n",
            "/usr/local/lib/python3.10/dist-packages/spacy/training/iob_utils.py:149: UserWarning: [W030] Some entities could not be aligned in the text \"A swarm of bees buzzed around the hive.\" with entities \"[(9, 12, 'ANIMAL')]\". Use `spacy.training.offsets_to_biluo_tags(nlp.make_doc(text), entities)` to check the alignment. Misaligned entities ('-') will be ignored during training.\n",
            "  warnings.warn(\n",
            "/usr/local/lib/python3.10/dist-packages/spacy/training/iob_utils.py:149: UserWarning: [W030] Some entities could not be aligned in the text \"The crocodile lurked in the murky waters.\" with entities \"[(4, 14, 'ANIMAL')]\". Use `spacy.training.offsets_to_biluo_tags(nlp.make_doc(text), entities)` to check the alignment. Misaligned entities ('-') will be ignored during training.\n",
            "  warnings.warn(\n",
            "/usr/local/lib/python3.10/dist-packages/spacy/training/iob_utils.py:149: UserWarning: [W030] Some entities could not be aligned in the text \"Butterflies fluttered among the flowers.\" with entities \"[(0, 9, 'ANIMAL')]\". Use `spacy.training.offsets_to_biluo_tags(nlp.make_doc(text), entities)` to check the alignment. Misaligned entities ('-') will be ignored during training.\n",
            "  warnings.warn(\n",
            "/usr/local/lib/python3.10/dist-packages/spacy/training/iob_utils.py:149: UserWarning: [W030] Some entities could not be aligned in the text \"There is a lion in the savannah.\" with entities \"[(15, 19, 'ANIMAL')]\". Use `spacy.training.offsets_to_biluo_tags(nlp.make_doc(text), entities)` to check the alignment. Misaligned entities ('-') will be ignored during training.\n",
            "  warnings.warn(\n",
            "/usr/local/lib/python3.10/dist-packages/spacy/training/iob_utils.py:149: UserWarning: [W030] Some entities could not be aligned in the text \"A group of elephants gathered at the watering hole...\" with entities \"[(12, 20, 'ANIMAL')]\". Use `spacy.training.offsets_to_biluo_tags(nlp.make_doc(text), entities)` to check the alignment. Misaligned entities ('-') will be ignored during training.\n",
            "  warnings.warn(\n",
            "/usr/local/lib/python3.10/dist-packages/spacy/training/iob_utils.py:149: UserWarning: [W030] Some entities could not be aligned in the text \"The cheetah is the fastest land animal.\" with entities \"[(4, 10, 'ANIMAL')]\". Use `spacy.training.offsets_to_biluo_tags(nlp.make_doc(text), entities)` to check the alignment. Misaligned entities ('-') will be ignored during training.\n",
            "  warnings.warn(\n",
            "/usr/local/lib/python3.10/dist-packages/spacy/training/iob_utils.py:149: UserWarning: [W030] Some entities could not be aligned in the text \"Penguins waddle on the icy shores.\" with entities \"[(0, 7, 'ANIMAL')]\". Use `spacy.training.offsets_to_biluo_tags(nlp.make_doc(text), entities)` to check the alignment. Misaligned entities ('-') will be ignored during training.\n",
            "  warnings.warn(\n",
            "/usr/local/lib/python3.10/dist-packages/spacy/training/iob_utils.py:149: UserWarning: [W030] Some entities could not be aligned in the text \"Giraffes have long necks and distinctive spotted c...\" with entities \"[(0, 7, 'ANIMAL')]\". Use `spacy.training.offsets_to_biluo_tags(nlp.make_doc(text), entities)` to check the alignment. Misaligned entities ('-') will be ignored during training.\n",
            "  warnings.warn(\n",
            "/usr/local/lib/python3.10/dist-packages/spacy/training/iob_utils.py:149: UserWarning: [W030] Some entities could not be aligned in the text \"The cheetah is the fastest land animal.\" with entities \"[(4, 10, 'ANIMAL')]\". Use `spacy.training.offsets_to_biluo_tags(nlp.make_doc(text), entities)` to check the alignment. Misaligned entities ('-') will be ignored during training.\n",
            "  warnings.warn(\n",
            "/usr/local/lib/python3.10/dist-packages/spacy/training/iob_utils.py:149: UserWarning: [W030] Some entities could not be aligned in the text \"Penguins waddle on the icy shores.\" with entities \"[(0, 7, 'ANIMAL')]\". Use `spacy.training.offsets_to_biluo_tags(nlp.make_doc(text), entities)` to check the alignment. Misaligned entities ('-') will be ignored during training.\n",
            "  warnings.warn(\n",
            "/usr/local/lib/python3.10/dist-packages/spacy/training/iob_utils.py:149: UserWarning: [W030] Some entities could not be aligned in the text \"Giraffes have long necks and distinctive spotted c...\" with entities \"[(0, 7, 'ANIMAL')]\". Use `spacy.training.offsets_to_biluo_tags(nlp.make_doc(text), entities)` to check the alignment. Misaligned entities ('-') will be ignored during training.\n",
            "  warnings.warn(\n",
            "/usr/local/lib/python3.10/dist-packages/spacy/training/iob_utils.py:149: UserWarning: [W030] Some entities could not be aligned in the text \"Kangaroos are known for their powerful hind legs.\" with entities \"[(0, 8, 'ANIMAL')]\". Use `spacy.training.offsets_to_biluo_tags(nlp.make_doc(text), entities)` to check the alignment. Misaligned entities ('-') will be ignored during training.\n",
            "  warnings.warn(\n",
            "/usr/local/lib/python3.10/dist-packages/spacy/training/iob_utils.py:149: UserWarning: [W030] Some entities could not be aligned in the text \"A swarm of bees buzzed around the hive.\" with entities \"[(9, 12, 'ANIMAL')]\". Use `spacy.training.offsets_to_biluo_tags(nlp.make_doc(text), entities)` to check the alignment. Misaligned entities ('-') will be ignored during training.\n",
            "  warnings.warn(\n",
            "/usr/local/lib/python3.10/dist-packages/spacy/training/iob_utils.py:149: UserWarning: [W030] Some entities could not be aligned in the text \"The crocodile lurked in the murky waters.\" with entities \"[(4, 14, 'ANIMAL')]\". Use `spacy.training.offsets_to_biluo_tags(nlp.make_doc(text), entities)` to check the alignment. Misaligned entities ('-') will be ignored during training.\n",
            "  warnings.warn(\n",
            "/usr/local/lib/python3.10/dist-packages/spacy/training/iob_utils.py:149: UserWarning: [W030] Some entities could not be aligned in the text \"Butterflies fluttered among the flowers.\" with entities \"[(0, 9, 'ANIMAL')]\". Use `spacy.training.offsets_to_biluo_tags(nlp.make_doc(text), entities)` to check the alignment. Misaligned entities ('-') will be ignored during training.\n",
            "  warnings.warn(\n",
            "/usr/local/lib/python3.10/dist-packages/spacy/training/iob_utils.py:149: UserWarning: [W030] Some entities could not be aligned in the text \"There is a lion in the savannah.\" with entities \"[(15, 19, 'ANIMAL')]\". Use `spacy.training.offsets_to_biluo_tags(nlp.make_doc(text), entities)` to check the alignment. Misaligned entities ('-') will be ignored during training.\n",
            "  warnings.warn(\n",
            "/usr/local/lib/python3.10/dist-packages/spacy/training/iob_utils.py:149: UserWarning: [W030] Some entities could not be aligned in the text \"A group of elephants gathered at the watering hole...\" with entities \"[(12, 20, 'ANIMAL')]\". Use `spacy.training.offsets_to_biluo_tags(nlp.make_doc(text), entities)` to check the alignment. Misaligned entities ('-') will be ignored during training.\n",
            "  warnings.warn(\n",
            "/usr/local/lib/python3.10/dist-packages/spacy/training/iob_utils.py:149: UserWarning: [W030] Some entities could not be aligned in the text \"Butterflies fluttered among the flowers.\" with entities \"[(0, 9, 'ANIMAL')]\". Use `spacy.training.offsets_to_biluo_tags(nlp.make_doc(text), entities)` to check the alignment. Misaligned entities ('-') will be ignored during training.\n",
            "  warnings.warn(\n"
          ]
        }
      ]
    },
    {
      "cell_type": "code",
      "source": [
        "nlp.to_disk(\"fine_tuned_model\")"
      ],
      "metadata": {
        "id": "W2ZNncI0tN2B"
      },
      "execution_count": null,
      "outputs": []
    },
    {
      "cell_type": "code",
      "source": [
        "fine_tuned_nlp = spacy.load(\"fine_tuned_model\")\n",
        "\n",
        "# Example usage\n",
        "text = \"The elephant is a majestic creature.\"\n",
        "doc = fine_tuned_nlp(text)\n",
        "\n",
        "# Extract entities\n",
        "entities = [(ent.text, ent.start_char, ent.end_char, ent.label_) for ent in doc.ents]\n",
        "pprint(entities)\n"
      ],
      "metadata": {
        "colab": {
          "base_uri": "https://localhost:8080/"
        },
        "id": "f3dvsYgAtQiV",
        "outputId": "b862b76c-a8e2-409a-de0f-0e0cde922044"
      },
      "execution_count": null,
      "outputs": [
        {
          "output_type": "stream",
          "name": "stdout",
          "text": [
            "[('elephant', 4, 12, 'ANIMAL')]\n"
          ]
        }
      ]
    },
    {
      "cell_type": "code",
      "source": [
        "doc = fine_tuned_nlp(tale_text_example)\n",
        "\n",
        "# Extract entities\n",
        "entities = [(ent.text, ent.start_char, ent.end_char, ent.label_) for ent in doc.ents]\n",
        "pprint(entities)\n"
      ],
      "metadata": {
        "colab": {
          "base_uri": "https://localhost:8080/"
        },
        "id": "yYutA73_tdH6",
        "outputId": "8d069314-7608-4e8c-efd2-911e4f5c2ab2"
      },
      "execution_count": null,
      "outputs": [
        {
          "output_type": "stream",
          "name": "stdout",
          "text": [
            "[('Lancelot', 84, 92, 'ANIMAL'),\n",
            " ('Thunder', 220, 227, 'ANIMAL'),\n",
            " ('Merlin', 249, 255, 'ANIMAL')]\n"
          ]
        }
      ]
    },
    {
      "cell_type": "code",
      "source": [
        "def create_database():\n",
        "    # Connect to SQLite database (or create it if it doesn't exist)\n",
        "    conn = sqlite3.connect('fairy_tales.db')\n",
        "    cursor = conn.cursor()\n",
        "\n",
        "    # Create a table to store fairy tales if it doesn't exist\n",
        "    cursor.execute('''\n",
        "        CREATE TABLE IF NOT EXISTS fairy_tales (\n",
        "            id INTEGER PRIMARY KEY,\n",
        "            title TEXT,\n",
        "            content TEXT\n",
        "        )\n",
        "    ''')\n",
        "\n",
        "    # Commit changes and close the connection\n",
        "    conn.commit()\n",
        "    conn.close()"
      ],
      "metadata": {
        "id": "ZJh7JL8OftnM"
      },
      "execution_count": null,
      "outputs": []
    },
    {
      "cell_type": "code",
      "source": [
        "def save_fairy_tale_to_database(title, content):\n",
        "    # Connect to the SQLite database\n",
        "    conn = sqlite3.connect('fairy_tales.db')\n",
        "    cursor = conn.cursor()\n",
        "\n",
        "    # Insert the fairy tale into the database\n",
        "    cursor.execute('INSERT INTO fairy_tales (title, content) VALUES (?, ?)', (title, content))\n",
        "\n",
        "    # Commit changes and close the connection\n",
        "    conn.commit()\n",
        "    conn.close()"
      ],
      "metadata": {
        "id": "SGXRVXuRfyHK"
      },
      "execution_count": null,
      "outputs": []
    },
    {
      "cell_type": "markdown",
      "source": [
        "## Fine Tune Spacy for animals, monsters and settings."
      ],
      "metadata": {
        "id": "FK-ehfqIsoFw"
      }
    },
    {
      "cell_type": "code",
      "source": [
        "import pandas as pd\n",
        "\n",
        "# Connect to the SQLite database\n",
        "conn = sqlite3.connect('fairy_tales.db')\n",
        "\n",
        "# Query to retrieve all data from the \"tales\" table\n",
        "query = 'SELECT * FROM fairy_tales'\n",
        "\n",
        "# Use pandas to read the data into a DataFrame\n",
        "df = pd.read_sql_query(query, conn)\n",
        "\n",
        "# Close the connection\n",
        "conn.close()\n",
        "\n",
        "# Display the DataFrame\n",
        "print(df)\n"
      ],
      "metadata": {
        "colab": {
          "base_uri": "https://localhost:8080/"
        },
        "id": "OlhQgr-UTmRi",
        "outputId": "0cf5c08e-ab95-48ae-e26d-7d3678057d96"
      },
      "execution_count": null,
      "outputs": [
        {
          "output_type": "stream",
          "name": "stdout",
          "text": [
            "Empty DataFrame\n",
            "Columns: [id, title, content]\n",
            "Index: []\n"
          ]
        }
      ]
    },
    {
      "cell_type": "code",
      "source": [],
      "metadata": {
        "id": "jV3q92SaT_G6"
      },
      "execution_count": null,
      "outputs": []
    }
  ]
}