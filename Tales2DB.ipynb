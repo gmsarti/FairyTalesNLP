{
  "nbformat": 4,
  "nbformat_minor": 0,
  "metadata": {
    "colab": {
      "provenance": [],
      "authorship_tag": "ABX9TyP30+ZLhR/vvrgc2ohibXSq",
      "include_colab_link": true
    },
    "kernelspec": {
      "name": "python3",
      "display_name": "Python 3"
    },
    "language_info": {
      "name": "python"
    }
  },
  "cells": [
    {
      "cell_type": "markdown",
      "metadata": {
        "id": "view-in-github",
        "colab_type": "text"
      },
      "source": [
        "<a href=\"https://colab.research.google.com/github/gmsarti/FairyTalesNLP/blob/main/Tales2DB.ipynb\" target=\"_parent\"><img src=\"https://colab.research.google.com/assets/colab-badge.svg\" alt=\"Open In Colab\"/></a>"
      ]
    },
    {
      "cell_type": "markdown",
      "source": [],
      "metadata": {
        "id": "XNsOYbxHuhg1"
      }
    },
    {
      "cell_type": "code",
      "source": [
        "import requests, sqlite3, pandas as pd, spacy\n",
        "from bs4 import BeautifulSoup\n",
        "from typing import List\n",
        "from pydantic import BaseModel"
      ],
      "metadata": {
        "id": "P76hWtfEfmaz"
      },
      "execution_count": null,
      "outputs": []
    },
    {
      "cell_type": "code",
      "source": [
        "def create_database():\n",
        "    # Connect to SQLite database (or create it if it doesn't exist)\n",
        "    conn = sqlite3.connect('fairy_tales.db')\n",
        "    cursor = conn.cursor()\n",
        "\n",
        "    # Create a table to store fairy tales if it doesn't exist\n",
        "    cursor.execute('''\n",
        "        CREATE TABLE IF NOT EXISTS fairy_tales (\n",
        "            id INTEGER PRIMARY KEY,\n",
        "            title TEXT,\n",
        "            content TEXT\n",
        "        )\n",
        "    ''')\n",
        "\n",
        "    # Commit changes and close the connection\n",
        "    conn.commit()\n",
        "    conn.close()"
      ],
      "metadata": {
        "id": "ZJh7JL8OftnM"
      },
      "execution_count": null,
      "outputs": []
    },
    {
      "cell_type": "code",
      "source": [
        "def save_fairy_tale_to_database(title, content):\n",
        "    # Connect to the SQLite database\n",
        "    conn = sqlite3.connect('fairy_tales.db')\n",
        "    cursor = conn.cursor()\n",
        "\n",
        "    # Insert the fairy tale into the database\n",
        "    cursor.execute('INSERT INTO fairy_tales (title, content) VALUES (?, ?)', (title, content))\n",
        "\n",
        "    # Commit changes and close the connection\n",
        "    conn.commit()\n",
        "    conn.close()"
      ],
      "metadata": {
        "id": "SGXRVXuRfyHK"
      },
      "execution_count": null,
      "outputs": []
    },
    {
      "cell_type": "code",
      "source": [
        "# !python -m spacy download en_core_web_md\n",
        "!python -m spacy download en_core_web_lg"
      ],
      "metadata": {
        "colab": {
          "base_uri": "https://localhost:8080/"
        },
        "id": "rsi3xyI6rIju",
        "outputId": "c7f0e432-c71a-46aa-d7fe-981a6921f786"
      },
      "execution_count": null,
      "outputs": [
        {
          "output_type": "stream",
          "name": "stdout",
          "text": [
            "2024-01-29 19:23:32.376276: E external/local_xla/xla/stream_executor/cuda/cuda_dnn.cc:9261] Unable to register cuDNN factory: Attempting to register factory for plugin cuDNN when one has already been registered\n",
            "2024-01-29 19:23:32.376356: E external/local_xla/xla/stream_executor/cuda/cuda_fft.cc:607] Unable to register cuFFT factory: Attempting to register factory for plugin cuFFT when one has already been registered\n",
            "2024-01-29 19:23:32.378633: E external/local_xla/xla/stream_executor/cuda/cuda_blas.cc:1515] Unable to register cuBLAS factory: Attempting to register factory for plugin cuBLAS when one has already been registered\n",
            "2024-01-29 19:23:34.413712: W tensorflow/compiler/tf2tensorrt/utils/py_utils.cc:38] TF-TRT Warning: Could not find TensorRT\n",
            "Collecting en-core-web-lg==3.6.0\n",
            "  Downloading https://github.com/explosion/spacy-models/releases/download/en_core_web_lg-3.6.0/en_core_web_lg-3.6.0-py3-none-any.whl (587.7 MB)\n",
            "\u001b[2K     \u001b[90m━━━━━━━━━━━━━━━━━━━━━━━━━━━━━━━━━━━━━━━━\u001b[0m \u001b[32m587.7/587.7 MB\u001b[0m \u001b[31m1.0 MB/s\u001b[0m eta \u001b[36m0:00:00\u001b[0m\n",
            "\u001b[?25hRequirement already satisfied: spacy<3.7.0,>=3.6.0 in /usr/local/lib/python3.10/dist-packages (from en-core-web-lg==3.6.0) (3.6.1)\n",
            "Requirement already satisfied: spacy-legacy<3.1.0,>=3.0.11 in /usr/local/lib/python3.10/dist-packages (from spacy<3.7.0,>=3.6.0->en-core-web-lg==3.6.0) (3.0.12)\n",
            "Requirement already satisfied: spacy-loggers<2.0.0,>=1.0.0 in /usr/local/lib/python3.10/dist-packages (from spacy<3.7.0,>=3.6.0->en-core-web-lg==3.6.0) (1.0.5)\n",
            "Requirement already satisfied: murmurhash<1.1.0,>=0.28.0 in /usr/local/lib/python3.10/dist-packages (from spacy<3.7.0,>=3.6.0->en-core-web-lg==3.6.0) (1.0.10)\n",
            "Requirement already satisfied: cymem<2.1.0,>=2.0.2 in /usr/local/lib/python3.10/dist-packages (from spacy<3.7.0,>=3.6.0->en-core-web-lg==3.6.0) (2.0.8)\n",
            "Requirement already satisfied: preshed<3.1.0,>=3.0.2 in /usr/local/lib/python3.10/dist-packages (from spacy<3.7.0,>=3.6.0->en-core-web-lg==3.6.0) (3.0.9)\n",
            "Requirement already satisfied: thinc<8.2.0,>=8.1.8 in /usr/local/lib/python3.10/dist-packages (from spacy<3.7.0,>=3.6.0->en-core-web-lg==3.6.0) (8.1.12)\n",
            "Requirement already satisfied: wasabi<1.2.0,>=0.9.1 in /usr/local/lib/python3.10/dist-packages (from spacy<3.7.0,>=3.6.0->en-core-web-lg==3.6.0) (1.1.2)\n",
            "Requirement already satisfied: srsly<3.0.0,>=2.4.3 in /usr/local/lib/python3.10/dist-packages (from spacy<3.7.0,>=3.6.0->en-core-web-lg==3.6.0) (2.4.8)\n",
            "Requirement already satisfied: catalogue<2.1.0,>=2.0.6 in /usr/local/lib/python3.10/dist-packages (from spacy<3.7.0,>=3.6.0->en-core-web-lg==3.6.0) (2.0.10)\n",
            "Requirement already satisfied: typer<0.10.0,>=0.3.0 in /usr/local/lib/python3.10/dist-packages (from spacy<3.7.0,>=3.6.0->en-core-web-lg==3.6.0) (0.9.0)\n",
            "Requirement already satisfied: pathy>=0.10.0 in /usr/local/lib/python3.10/dist-packages (from spacy<3.7.0,>=3.6.0->en-core-web-lg==3.6.0) (0.11.0)\n",
            "Requirement already satisfied: smart-open<7.0.0,>=5.2.1 in /usr/local/lib/python3.10/dist-packages (from spacy<3.7.0,>=3.6.0->en-core-web-lg==3.6.0) (6.4.0)\n",
            "Requirement already satisfied: tqdm<5.0.0,>=4.38.0 in /usr/local/lib/python3.10/dist-packages (from spacy<3.7.0,>=3.6.0->en-core-web-lg==3.6.0) (4.66.1)\n",
            "Requirement already satisfied: numpy>=1.15.0 in /usr/local/lib/python3.10/dist-packages (from spacy<3.7.0,>=3.6.0->en-core-web-lg==3.6.0) (1.23.5)\n",
            "Requirement already satisfied: requests<3.0.0,>=2.13.0 in /usr/local/lib/python3.10/dist-packages (from spacy<3.7.0,>=3.6.0->en-core-web-lg==3.6.0) (2.31.0)\n",
            "Requirement already satisfied: pydantic!=1.8,!=1.8.1,<3.0.0,>=1.7.4 in /usr/local/lib/python3.10/dist-packages (from spacy<3.7.0,>=3.6.0->en-core-web-lg==3.6.0) (1.10.14)\n",
            "Requirement already satisfied: jinja2 in /usr/local/lib/python3.10/dist-packages (from spacy<3.7.0,>=3.6.0->en-core-web-lg==3.6.0) (3.1.3)\n",
            "Requirement already satisfied: setuptools in /usr/local/lib/python3.10/dist-packages (from spacy<3.7.0,>=3.6.0->en-core-web-lg==3.6.0) (67.7.2)\n",
            "Requirement already satisfied: packaging>=20.0 in /usr/local/lib/python3.10/dist-packages (from spacy<3.7.0,>=3.6.0->en-core-web-lg==3.6.0) (23.2)\n",
            "Requirement already satisfied: langcodes<4.0.0,>=3.2.0 in /usr/local/lib/python3.10/dist-packages (from spacy<3.7.0,>=3.6.0->en-core-web-lg==3.6.0) (3.3.0)\n",
            "Requirement already satisfied: pathlib-abc==0.1.1 in /usr/local/lib/python3.10/dist-packages (from pathy>=0.10.0->spacy<3.7.0,>=3.6.0->en-core-web-lg==3.6.0) (0.1.1)\n",
            "Requirement already satisfied: typing-extensions>=4.2.0 in /usr/local/lib/python3.10/dist-packages (from pydantic!=1.8,!=1.8.1,<3.0.0,>=1.7.4->spacy<3.7.0,>=3.6.0->en-core-web-lg==3.6.0) (4.5.0)\n",
            "Requirement already satisfied: charset-normalizer<4,>=2 in /usr/local/lib/python3.10/dist-packages (from requests<3.0.0,>=2.13.0->spacy<3.7.0,>=3.6.0->en-core-web-lg==3.6.0) (3.3.2)\n",
            "Requirement already satisfied: idna<4,>=2.5 in /usr/local/lib/python3.10/dist-packages (from requests<3.0.0,>=2.13.0->spacy<3.7.0,>=3.6.0->en-core-web-lg==3.6.0) (3.6)\n",
            "Requirement already satisfied: urllib3<3,>=1.21.1 in /usr/local/lib/python3.10/dist-packages (from requests<3.0.0,>=2.13.0->spacy<3.7.0,>=3.6.0->en-core-web-lg==3.6.0) (2.0.7)\n",
            "Requirement already satisfied: certifi>=2017.4.17 in /usr/local/lib/python3.10/dist-packages (from requests<3.0.0,>=2.13.0->spacy<3.7.0,>=3.6.0->en-core-web-lg==3.6.0) (2023.11.17)\n",
            "Requirement already satisfied: blis<0.8.0,>=0.7.8 in /usr/local/lib/python3.10/dist-packages (from thinc<8.2.0,>=8.1.8->spacy<3.7.0,>=3.6.0->en-core-web-lg==3.6.0) (0.7.11)\n",
            "Requirement already satisfied: confection<1.0.0,>=0.0.1 in /usr/local/lib/python3.10/dist-packages (from thinc<8.2.0,>=8.1.8->spacy<3.7.0,>=3.6.0->en-core-web-lg==3.6.0) (0.1.4)\n",
            "Requirement already satisfied: click<9.0.0,>=7.1.1 in /usr/local/lib/python3.10/dist-packages (from typer<0.10.0,>=0.3.0->spacy<3.7.0,>=3.6.0->en-core-web-lg==3.6.0) (8.1.7)\n",
            "Requirement already satisfied: MarkupSafe>=2.0 in /usr/local/lib/python3.10/dist-packages (from jinja2->spacy<3.7.0,>=3.6.0->en-core-web-lg==3.6.0) (2.1.4)\n",
            "Installing collected packages: en-core-web-lg\n",
            "Successfully installed en-core-web-lg-3.6.0\n",
            "\u001b[38;5;2m✔ Download and installation successful\u001b[0m\n",
            "You can now load the package via spacy.load('en_core_web_lg')\n"
          ]
        }
      ]
    },
    {
      "cell_type": "code",
      "source": [
        "from typing import List\n",
        "from pydantic import BaseModel\n",
        "import spacy\n",
        "from pprint import pprint\n",
        "\n",
        "# Load SpaCy model for NER\n",
        "nlp = spacy.load(\"en_core_web_lg\")\n",
        "\n",
        "class TaleInfo(BaseModel):\n",
        "    tale_name: str\n",
        "    tale_story: str\n",
        "    characters: List[str]\n",
        "    animals: List[str]\n",
        "    monsters: List[str]\n",
        "    setting: List[str]\n",
        "    theme: str\n",
        "    category: str\n",
        "    country_of_origin: str\n",
        "    author: str\n",
        "\n",
        "    @classmethod\n",
        "    def from_text(cls, tale_text: str):\n",
        "        # Process the tale text with SpaCy NER\n",
        "        doc = nlp(tale_text)\n",
        "\n",
        "        # Extract entities for characters, animals, monsters, and settings\n",
        "        characters = [ent.text for ent in doc.ents if ent.label_ == \"PERSON\"]\n",
        "        animals = [ent.text for ent in doc.ents if ent.label_ == \"ANIMAL\"]\n",
        "        monsters = [ent.text for ent in doc.ents if ent.label_ == \"MONSTER\"]\n",
        "        setting = [ent.text for ent in doc.ents if ent.label_ == \"LOCATION\"]\n",
        "\n",
        "        # Instantiate the TaleInfo class with extracted information\n",
        "        tale_info = cls(\n",
        "            tale_name=\"Unknown\",\n",
        "            tale_story=tale_text,\n",
        "            characters=characters,\n",
        "            animals=animals,\n",
        "            monsters=monsters,\n",
        "            setting=setting,\n",
        "            theme=\"Unknown\",\n",
        "            category=\"Unknown\",\n",
        "            country_of_origin=\"Unknown\",\n",
        "            author=\"Unknown\",\n",
        "        )\n",
        "\n",
        "        return tale_info\n",
        "\n",
        "# Example usage:\n",
        "tale_text_example = \"\"\"\n",
        "Once upon a time, in a kingdom far, far away, there lived a brave knight named Sir Lancelot.\n",
        "He embarked on a quest to defeat the fire-breathing dragon that terrorized the land.\n",
        "Accompanying him were his loyal steed, Thunder, and the wise wizard Merlin.\n",
        "\"\"\"\n",
        "\n",
        "tale_info = TaleInfo.from_text(tale_text_example)\n",
        "\n",
        "# Accessing the extracted information\n",
        "pprint(tale_info.dict())\n"
      ],
      "metadata": {
        "colab": {
          "base_uri": "https://localhost:8080/"
        },
        "id": "L6rSLDGtSqea",
        "outputId": "3a938872-c271-497a-970a-05f658304a19"
      },
      "execution_count": null,
      "outputs": [
        {
          "output_type": "stream",
          "name": "stdout",
          "text": [
            "{'animals': [],\n",
            " 'author': 'Unknown',\n",
            " 'category': 'Unknown',\n",
            " 'characters': ['Lancelot', 'Merlin'],\n",
            " 'country_of_origin': 'Unknown',\n",
            " 'monsters': [],\n",
            " 'setting': [],\n",
            " 'tale_name': 'Unknown',\n",
            " 'tale_story': '\\n'\n",
            "               'Once upon a time, in a kingdom far, far away, there lived a '\n",
            "               'brave knight named Sir Lancelot. \\n'\n",
            "               'He embarked on a quest to defeat the fire-breathing dragon '\n",
            "               'that terrorized the land. \\n'\n",
            "               'Accompanying him were his loyal steed, Thunder, and the wise '\n",
            "               'wizard Merlin.\\n',\n",
            " 'theme': 'Unknown'}\n"
          ]
        }
      ]
    },
    {
      "cell_type": "markdown",
      "source": [
        "## Fine Tune Spacy for animals, monsters and settings."
      ],
      "metadata": {
        "id": "FK-ehfqIsoFw"
      }
    },
    {
      "cell_type": "code",
      "source": [
        "train_data = [\n",
        "    (\"There is a lion in the savannah.\", {\"entities\": [(15, 19, \"ANIMAL\")]}),\n",
        "    (\"The monkey swung from tree to tree.\", {\"entities\": [(4, 10, \"ANIMAL\")]}),\n",
        "    (\"A group of elephants gathered at the watering hole.\", {\"entities\": [(12, 20, \"ANIMAL\")]}),\n",
        "    (\"The cheetah is the fastest land animal.\", {\"entities\": [(4, 10, \"ANIMAL\")]}),\n",
        "    (\"Penguins waddle on the icy shores.\", {\"entities\": [(0, 7, \"ANIMAL\")]}),\n",
        "    (\"The eagle soared high in the sky.\", {\"entities\": [(4, 9, \"ANIMAL\")]}),\n",
        "    (\"Giraffes have long necks and distinctive spotted coats.\", {\"entities\": [(0, 7, \"ANIMAL\")]}),\n",
        "    (\"The whale breached the surface of the ocean.\", {\"entities\": [(4, 9, \"ANIMAL\")]}),\n",
        "    (\"Kangaroos are known for their powerful hind legs.\", {\"entities\": [(0, 8, \"ANIMAL\")]}),\n",
        "    (\"A swarm of bees buzzed around the hive.\", {\"entities\": [(9, 12, \"ANIMAL\")]}),\n",
        "    (\"The panda peacefully ate bamboo in the bamboo forest.\", {\"entities\": [(4, 9, \"ANIMAL\")]}),\n",
        "    (\"Tigers are majestic creatures with distinctive stripes.\", {\"entities\": [(0, 6, \"ANIMAL\")]}),\n",
        "    (\"The crocodile lurked in the murky waters.\", {\"entities\": [(4, 14, \"ANIMAL\")]}),\n",
        "    (\"The koala slept in the eucalyptus tree.\", {\"entities\": [(4, 9, \"ANIMAL\")]}),\n",
        "    (\"Butterflies fluttered among the flowers.\", {\"entities\": [(0, 9, \"ANIMAL\")]}),\n",
        "    # Add more examples with different animals\n",
        "]\n"
      ],
      "metadata": {
        "id": "FTQpiH9wsnuw"
      },
      "execution_count": null,
      "outputs": []
    },
    {
      "cell_type": "code",
      "source": [
        "ner = nlp.get_pipe(\"ner\")\n",
        "ner.add_label(\"ANIMAL\")\n",
        "\n",
        "\n",
        "from spacy.training.example import Example\n",
        "\n",
        "# Fine-tune the model\n",
        "epochs = 10\n",
        "for epoch in range(epochs):\n",
        "    for text, annotations in train_data:\n",
        "        doc = nlp.make_doc(text)\n",
        "        example = Example.from_dict(doc, annotations)\n",
        "        nlp.update([example], drop=0.5)  # Set drop to a value between 0.0 and 1.0 for dropout regularization\n"
      ],
      "metadata": {
        "colab": {
          "base_uri": "https://localhost:8080/"
        },
        "id": "zGvIWdjvqHY_",
        "outputId": "065c712e-ffa8-43fa-d773-71e534afc84e"
      },
      "execution_count": null,
      "outputs": [
        {
          "output_type": "stream",
          "name": "stderr",
          "text": [
            "/usr/local/lib/python3.10/dist-packages/spacy/training/iob_utils.py:149: UserWarning: [W030] Some entities could not be aligned in the text \"There is a lion in the savannah.\" with entities \"[(15, 19, 'ANIMAL')]\". Use `spacy.training.offsets_to_biluo_tags(nlp.make_doc(text), entities)` to check the alignment. Misaligned entities ('-') will be ignored during training.\n",
            "  warnings.warn(\n",
            "/usr/local/lib/python3.10/dist-packages/spacy/training/iob_utils.py:149: UserWarning: [W030] Some entities could not be aligned in the text \"A group of elephants gathered at the watering hole...\" with entities \"[(12, 20, 'ANIMAL')]\". Use `spacy.training.offsets_to_biluo_tags(nlp.make_doc(text), entities)` to check the alignment. Misaligned entities ('-') will be ignored during training.\n",
            "  warnings.warn(\n",
            "/usr/local/lib/python3.10/dist-packages/spacy/training/iob_utils.py:149: UserWarning: [W030] Some entities could not be aligned in the text \"The cheetah is the fastest land animal.\" with entities \"[(4, 10, 'ANIMAL')]\". Use `spacy.training.offsets_to_biluo_tags(nlp.make_doc(text), entities)` to check the alignment. Misaligned entities ('-') will be ignored during training.\n",
            "  warnings.warn(\n",
            "/usr/local/lib/python3.10/dist-packages/spacy/training/iob_utils.py:149: UserWarning: [W030] Some entities could not be aligned in the text \"Penguins waddle on the icy shores.\" with entities \"[(0, 7, 'ANIMAL')]\". Use `spacy.training.offsets_to_biluo_tags(nlp.make_doc(text), entities)` to check the alignment. Misaligned entities ('-') will be ignored during training.\n",
            "  warnings.warn(\n",
            "/usr/local/lib/python3.10/dist-packages/spacy/training/iob_utils.py:149: UserWarning: [W030] Some entities could not be aligned in the text \"Giraffes have long necks and distinctive spotted c...\" with entities \"[(0, 7, 'ANIMAL')]\". Use `spacy.training.offsets_to_biluo_tags(nlp.make_doc(text), entities)` to check the alignment. Misaligned entities ('-') will be ignored during training.\n",
            "  warnings.warn(\n",
            "/usr/local/lib/python3.10/dist-packages/spacy/training/iob_utils.py:149: UserWarning: [W030] Some entities could not be aligned in the text \"Kangaroos are known for their powerful hind legs.\" with entities \"[(0, 8, 'ANIMAL')]\". Use `spacy.training.offsets_to_biluo_tags(nlp.make_doc(text), entities)` to check the alignment. Misaligned entities ('-') will be ignored during training.\n",
            "  warnings.warn(\n",
            "/usr/local/lib/python3.10/dist-packages/spacy/training/iob_utils.py:149: UserWarning: [W030] Some entities could not be aligned in the text \"A swarm of bees buzzed around the hive.\" with entities \"[(9, 12, 'ANIMAL')]\". Use `spacy.training.offsets_to_biluo_tags(nlp.make_doc(text), entities)` to check the alignment. Misaligned entities ('-') will be ignored during training.\n",
            "  warnings.warn(\n",
            "/usr/local/lib/python3.10/dist-packages/spacy/training/iob_utils.py:149: UserWarning: [W030] Some entities could not be aligned in the text \"The crocodile lurked in the murky waters.\" with entities \"[(4, 14, 'ANIMAL')]\". Use `spacy.training.offsets_to_biluo_tags(nlp.make_doc(text), entities)` to check the alignment. Misaligned entities ('-') will be ignored during training.\n",
            "  warnings.warn(\n",
            "/usr/local/lib/python3.10/dist-packages/spacy/training/iob_utils.py:149: UserWarning: [W030] Some entities could not be aligned in the text \"Butterflies fluttered among the flowers.\" with entities \"[(0, 9, 'ANIMAL')]\". Use `spacy.training.offsets_to_biluo_tags(nlp.make_doc(text), entities)` to check the alignment. Misaligned entities ('-') will be ignored during training.\n",
            "  warnings.warn(\n",
            "/usr/local/lib/python3.10/dist-packages/spacy/training/iob_utils.py:149: UserWarning: [W030] Some entities could not be aligned in the text \"The cheetah is the fastest land animal.\" with entities \"[(4, 10, 'ANIMAL')]\". Use `spacy.training.offsets_to_biluo_tags(nlp.make_doc(text), entities)` to check the alignment. Misaligned entities ('-') will be ignored during training.\n",
            "  warnings.warn(\n",
            "/usr/local/lib/python3.10/dist-packages/spacy/training/iob_utils.py:149: UserWarning: [W030] Some entities could not be aligned in the text \"Penguins waddle on the icy shores.\" with entities \"[(0, 7, 'ANIMAL')]\". Use `spacy.training.offsets_to_biluo_tags(nlp.make_doc(text), entities)` to check the alignment. Misaligned entities ('-') will be ignored during training.\n",
            "  warnings.warn(\n",
            "/usr/local/lib/python3.10/dist-packages/spacy/training/iob_utils.py:149: UserWarning: [W030] Some entities could not be aligned in the text \"Giraffes have long necks and distinctive spotted c...\" with entities \"[(0, 7, 'ANIMAL')]\". Use `spacy.training.offsets_to_biluo_tags(nlp.make_doc(text), entities)` to check the alignment. Misaligned entities ('-') will be ignored during training.\n",
            "  warnings.warn(\n",
            "/usr/local/lib/python3.10/dist-packages/spacy/training/iob_utils.py:149: UserWarning: [W030] Some entities could not be aligned in the text \"Kangaroos are known for their powerful hind legs.\" with entities \"[(0, 8, 'ANIMAL')]\". Use `spacy.training.offsets_to_biluo_tags(nlp.make_doc(text), entities)` to check the alignment. Misaligned entities ('-') will be ignored during training.\n",
            "  warnings.warn(\n",
            "/usr/local/lib/python3.10/dist-packages/spacy/training/iob_utils.py:149: UserWarning: [W030] Some entities could not be aligned in the text \"A swarm of bees buzzed around the hive.\" with entities \"[(9, 12, 'ANIMAL')]\". Use `spacy.training.offsets_to_biluo_tags(nlp.make_doc(text), entities)` to check the alignment. Misaligned entities ('-') will be ignored during training.\n",
            "  warnings.warn(\n",
            "/usr/local/lib/python3.10/dist-packages/spacy/training/iob_utils.py:149: UserWarning: [W030] Some entities could not be aligned in the text \"The crocodile lurked in the murky waters.\" with entities \"[(4, 14, 'ANIMAL')]\". Use `spacy.training.offsets_to_biluo_tags(nlp.make_doc(text), entities)` to check the alignment. Misaligned entities ('-') will be ignored during training.\n",
            "  warnings.warn(\n",
            "/usr/local/lib/python3.10/dist-packages/spacy/training/iob_utils.py:149: UserWarning: [W030] Some entities could not be aligned in the text \"Butterflies fluttered among the flowers.\" with entities \"[(0, 9, 'ANIMAL')]\". Use `spacy.training.offsets_to_biluo_tags(nlp.make_doc(text), entities)` to check the alignment. Misaligned entities ('-') will be ignored during training.\n",
            "  warnings.warn(\n",
            "/usr/local/lib/python3.10/dist-packages/spacy/training/iob_utils.py:149: UserWarning: [W030] Some entities could not be aligned in the text \"There is a lion in the savannah.\" with entities \"[(15, 19, 'ANIMAL')]\". Use `spacy.training.offsets_to_biluo_tags(nlp.make_doc(text), entities)` to check the alignment. Misaligned entities ('-') will be ignored during training.\n",
            "  warnings.warn(\n",
            "/usr/local/lib/python3.10/dist-packages/spacy/training/iob_utils.py:149: UserWarning: [W030] Some entities could not be aligned in the text \"A group of elephants gathered at the watering hole...\" with entities \"[(12, 20, 'ANIMAL')]\". Use `spacy.training.offsets_to_biluo_tags(nlp.make_doc(text), entities)` to check the alignment. Misaligned entities ('-') will be ignored during training.\n",
            "  warnings.warn(\n",
            "/usr/local/lib/python3.10/dist-packages/spacy/training/iob_utils.py:149: UserWarning: [W030] Some entities could not be aligned in the text \"The cheetah is the fastest land animal.\" with entities \"[(4, 10, 'ANIMAL')]\". Use `spacy.training.offsets_to_biluo_tags(nlp.make_doc(text), entities)` to check the alignment. Misaligned entities ('-') will be ignored during training.\n",
            "  warnings.warn(\n",
            "/usr/local/lib/python3.10/dist-packages/spacy/training/iob_utils.py:149: UserWarning: [W030] Some entities could not be aligned in the text \"Penguins waddle on the icy shores.\" with entities \"[(0, 7, 'ANIMAL')]\". Use `spacy.training.offsets_to_biluo_tags(nlp.make_doc(text), entities)` to check the alignment. Misaligned entities ('-') will be ignored during training.\n",
            "  warnings.warn(\n",
            "/usr/local/lib/python3.10/dist-packages/spacy/training/iob_utils.py:149: UserWarning: [W030] Some entities could not be aligned in the text \"Giraffes have long necks and distinctive spotted c...\" with entities \"[(0, 7, 'ANIMAL')]\". Use `spacy.training.offsets_to_biluo_tags(nlp.make_doc(text), entities)` to check the alignment. Misaligned entities ('-') will be ignored during training.\n",
            "  warnings.warn(\n",
            "/usr/local/lib/python3.10/dist-packages/spacy/training/iob_utils.py:149: UserWarning: [W030] Some entities could not be aligned in the text \"Kangaroos are known for their powerful hind legs.\" with entities \"[(0, 8, 'ANIMAL')]\". Use `spacy.training.offsets_to_biluo_tags(nlp.make_doc(text), entities)` to check the alignment. Misaligned entities ('-') will be ignored during training.\n",
            "  warnings.warn(\n",
            "/usr/local/lib/python3.10/dist-packages/spacy/training/iob_utils.py:149: UserWarning: [W030] Some entities could not be aligned in the text \"A swarm of bees buzzed around the hive.\" with entities \"[(9, 12, 'ANIMAL')]\". Use `spacy.training.offsets_to_biluo_tags(nlp.make_doc(text), entities)` to check the alignment. Misaligned entities ('-') will be ignored during training.\n",
            "  warnings.warn(\n",
            "/usr/local/lib/python3.10/dist-packages/spacy/training/iob_utils.py:149: UserWarning: [W030] Some entities could not be aligned in the text \"The crocodile lurked in the murky waters.\" with entities \"[(4, 14, 'ANIMAL')]\". Use `spacy.training.offsets_to_biluo_tags(nlp.make_doc(text), entities)` to check the alignment. Misaligned entities ('-') will be ignored during training.\n",
            "  warnings.warn(\n",
            "/usr/local/lib/python3.10/dist-packages/spacy/training/iob_utils.py:149: UserWarning: [W030] Some entities could not be aligned in the text \"Kangaroos are known for their powerful hind legs.\" with entities \"[(0, 8, 'ANIMAL')]\". Use `spacy.training.offsets_to_biluo_tags(nlp.make_doc(text), entities)` to check the alignment. Misaligned entities ('-') will be ignored during training.\n",
            "  warnings.warn(\n",
            "/usr/local/lib/python3.10/dist-packages/spacy/training/iob_utils.py:149: UserWarning: [W030] Some entities could not be aligned in the text \"A swarm of bees buzzed around the hive.\" with entities \"[(9, 12, 'ANIMAL')]\". Use `spacy.training.offsets_to_biluo_tags(nlp.make_doc(text), entities)` to check the alignment. Misaligned entities ('-') will be ignored during training.\n",
            "  warnings.warn(\n",
            "/usr/local/lib/python3.10/dist-packages/spacy/training/iob_utils.py:149: UserWarning: [W030] Some entities could not be aligned in the text \"The crocodile lurked in the murky waters.\" with entities \"[(4, 14, 'ANIMAL')]\". Use `spacy.training.offsets_to_biluo_tags(nlp.make_doc(text), entities)` to check the alignment. Misaligned entities ('-') will be ignored during training.\n",
            "  warnings.warn(\n",
            "/usr/local/lib/python3.10/dist-packages/spacy/training/iob_utils.py:149: UserWarning: [W030] Some entities could not be aligned in the text \"Butterflies fluttered among the flowers.\" with entities \"[(0, 9, 'ANIMAL')]\". Use `spacy.training.offsets_to_biluo_tags(nlp.make_doc(text), entities)` to check the alignment. Misaligned entities ('-') will be ignored during training.\n",
            "  warnings.warn(\n",
            "/usr/local/lib/python3.10/dist-packages/spacy/training/iob_utils.py:149: UserWarning: [W030] Some entities could not be aligned in the text \"There is a lion in the savannah.\" with entities \"[(15, 19, 'ANIMAL')]\". Use `spacy.training.offsets_to_biluo_tags(nlp.make_doc(text), entities)` to check the alignment. Misaligned entities ('-') will be ignored during training.\n",
            "  warnings.warn(\n",
            "/usr/local/lib/python3.10/dist-packages/spacy/training/iob_utils.py:149: UserWarning: [W030] Some entities could not be aligned in the text \"A group of elephants gathered at the watering hole...\" with entities \"[(12, 20, 'ANIMAL')]\". Use `spacy.training.offsets_to_biluo_tags(nlp.make_doc(text), entities)` to check the alignment. Misaligned entities ('-') will be ignored during training.\n",
            "  warnings.warn(\n",
            "/usr/local/lib/python3.10/dist-packages/spacy/training/iob_utils.py:149: UserWarning: [W030] Some entities could not be aligned in the text \"The cheetah is the fastest land animal.\" with entities \"[(4, 10, 'ANIMAL')]\". Use `spacy.training.offsets_to_biluo_tags(nlp.make_doc(text), entities)` to check the alignment. Misaligned entities ('-') will be ignored during training.\n",
            "  warnings.warn(\n",
            "/usr/local/lib/python3.10/dist-packages/spacy/training/iob_utils.py:149: UserWarning: [W030] Some entities could not be aligned in the text \"Penguins waddle on the icy shores.\" with entities \"[(0, 7, 'ANIMAL')]\". Use `spacy.training.offsets_to_biluo_tags(nlp.make_doc(text), entities)` to check the alignment. Misaligned entities ('-') will be ignored during training.\n",
            "  warnings.warn(\n",
            "/usr/local/lib/python3.10/dist-packages/spacy/training/iob_utils.py:149: UserWarning: [W030] Some entities could not be aligned in the text \"Giraffes have long necks and distinctive spotted c...\" with entities \"[(0, 7, 'ANIMAL')]\". Use `spacy.training.offsets_to_biluo_tags(nlp.make_doc(text), entities)` to check the alignment. Misaligned entities ('-') will be ignored during training.\n",
            "  warnings.warn(\n",
            "/usr/local/lib/python3.10/dist-packages/spacy/training/iob_utils.py:149: UserWarning: [W030] Some entities could not be aligned in the text \"The cheetah is the fastest land animal.\" with entities \"[(4, 10, 'ANIMAL')]\". Use `spacy.training.offsets_to_biluo_tags(nlp.make_doc(text), entities)` to check the alignment. Misaligned entities ('-') will be ignored during training.\n",
            "  warnings.warn(\n",
            "/usr/local/lib/python3.10/dist-packages/spacy/training/iob_utils.py:149: UserWarning: [W030] Some entities could not be aligned in the text \"Penguins waddle on the icy shores.\" with entities \"[(0, 7, 'ANIMAL')]\". Use `spacy.training.offsets_to_biluo_tags(nlp.make_doc(text), entities)` to check the alignment. Misaligned entities ('-') will be ignored during training.\n",
            "  warnings.warn(\n",
            "/usr/local/lib/python3.10/dist-packages/spacy/training/iob_utils.py:149: UserWarning: [W030] Some entities could not be aligned in the text \"Giraffes have long necks and distinctive spotted c...\" with entities \"[(0, 7, 'ANIMAL')]\". Use `spacy.training.offsets_to_biluo_tags(nlp.make_doc(text), entities)` to check the alignment. Misaligned entities ('-') will be ignored during training.\n",
            "  warnings.warn(\n",
            "/usr/local/lib/python3.10/dist-packages/spacy/training/iob_utils.py:149: UserWarning: [W030] Some entities could not be aligned in the text \"Kangaroos are known for their powerful hind legs.\" with entities \"[(0, 8, 'ANIMAL')]\". Use `spacy.training.offsets_to_biluo_tags(nlp.make_doc(text), entities)` to check the alignment. Misaligned entities ('-') will be ignored during training.\n",
            "  warnings.warn(\n",
            "/usr/local/lib/python3.10/dist-packages/spacy/training/iob_utils.py:149: UserWarning: [W030] Some entities could not be aligned in the text \"A swarm of bees buzzed around the hive.\" with entities \"[(9, 12, 'ANIMAL')]\". Use `spacy.training.offsets_to_biluo_tags(nlp.make_doc(text), entities)` to check the alignment. Misaligned entities ('-') will be ignored during training.\n",
            "  warnings.warn(\n",
            "/usr/local/lib/python3.10/dist-packages/spacy/training/iob_utils.py:149: UserWarning: [W030] Some entities could not be aligned in the text \"The crocodile lurked in the murky waters.\" with entities \"[(4, 14, 'ANIMAL')]\". Use `spacy.training.offsets_to_biluo_tags(nlp.make_doc(text), entities)` to check the alignment. Misaligned entities ('-') will be ignored during training.\n",
            "  warnings.warn(\n",
            "/usr/local/lib/python3.10/dist-packages/spacy/training/iob_utils.py:149: UserWarning: [W030] Some entities could not be aligned in the text \"Butterflies fluttered among the flowers.\" with entities \"[(0, 9, 'ANIMAL')]\". Use `spacy.training.offsets_to_biluo_tags(nlp.make_doc(text), entities)` to check the alignment. Misaligned entities ('-') will be ignored during training.\n",
            "  warnings.warn(\n",
            "/usr/local/lib/python3.10/dist-packages/spacy/training/iob_utils.py:149: UserWarning: [W030] Some entities could not be aligned in the text \"There is a lion in the savannah.\" with entities \"[(15, 19, 'ANIMAL')]\". Use `spacy.training.offsets_to_biluo_tags(nlp.make_doc(text), entities)` to check the alignment. Misaligned entities ('-') will be ignored during training.\n",
            "  warnings.warn(\n",
            "/usr/local/lib/python3.10/dist-packages/spacy/training/iob_utils.py:149: UserWarning: [W030] Some entities could not be aligned in the text \"A group of elephants gathered at the watering hole...\" with entities \"[(12, 20, 'ANIMAL')]\". Use `spacy.training.offsets_to_biluo_tags(nlp.make_doc(text), entities)` to check the alignment. Misaligned entities ('-') will be ignored during training.\n",
            "  warnings.warn(\n",
            "/usr/local/lib/python3.10/dist-packages/spacy/training/iob_utils.py:149: UserWarning: [W030] Some entities could not be aligned in the text \"Butterflies fluttered among the flowers.\" with entities \"[(0, 9, 'ANIMAL')]\". Use `spacy.training.offsets_to_biluo_tags(nlp.make_doc(text), entities)` to check the alignment. Misaligned entities ('-') will be ignored during training.\n",
            "  warnings.warn(\n"
          ]
        }
      ]
    },
    {
      "cell_type": "code",
      "source": [
        "nlp.to_disk(\"fine_tuned_model\")"
      ],
      "metadata": {
        "id": "W2ZNncI0tN2B"
      },
      "execution_count": null,
      "outputs": []
    },
    {
      "cell_type": "code",
      "source": [
        "fine_tuned_nlp = spacy.load(\"fine_tuned_model\")\n",
        "\n",
        "# Example usage\n",
        "text = \"The elephant is a majestic creature.\"\n",
        "doc = fine_tuned_nlp(text)\n",
        "\n",
        "# Extract entities\n",
        "entities = [(ent.text, ent.start_char, ent.end_char, ent.label_) for ent in doc.ents]\n",
        "pprint(entities)\n"
      ],
      "metadata": {
        "colab": {
          "base_uri": "https://localhost:8080/"
        },
        "id": "f3dvsYgAtQiV",
        "outputId": "b862b76c-a8e2-409a-de0f-0e0cde922044"
      },
      "execution_count": null,
      "outputs": [
        {
          "output_type": "stream",
          "name": "stdout",
          "text": [
            "[('elephant', 4, 12, 'ANIMAL')]\n"
          ]
        }
      ]
    },
    {
      "cell_type": "code",
      "source": [
        "doc = fine_tuned_nlp(tale_text_example)\n",
        "\n",
        "# Extract entities\n",
        "entities = [(ent.text, ent.start_char, ent.end_char, ent.label_) for ent in doc.ents]\n",
        "pprint(entities)\n"
      ],
      "metadata": {
        "colab": {
          "base_uri": "https://localhost:8080/"
        },
        "id": "yYutA73_tdH6",
        "outputId": "8d069314-7608-4e8c-efd2-911e4f5c2ab2"
      },
      "execution_count": null,
      "outputs": [
        {
          "output_type": "stream",
          "name": "stdout",
          "text": [
            "[('Lancelot', 84, 92, 'ANIMAL'),\n",
            " ('Thunder', 220, 227, 'ANIMAL'),\n",
            " ('Merlin', 249, 255, 'ANIMAL')]\n"
          ]
        }
      ]
    },
    {
      "cell_type": "code",
      "source": [
        "import pandas as pd\n",
        "\n",
        "# Connect to the SQLite database\n",
        "conn = sqlite3.connect('fairy_tales.db')\n",
        "\n",
        "# Query to retrieve all data from the \"tales\" table\n",
        "query = 'SELECT * FROM fairy_tales'\n",
        "\n",
        "# Use pandas to read the data into a DataFrame\n",
        "df = pd.read_sql_query(query, conn)\n",
        "\n",
        "# Close the connection\n",
        "conn.close()\n",
        "\n",
        "# Display the DataFrame\n",
        "print(df)\n"
      ],
      "metadata": {
        "colab": {
          "base_uri": "https://localhost:8080/"
        },
        "id": "OlhQgr-UTmRi",
        "outputId": "0cf5c08e-ab95-48ae-e26d-7d3678057d96"
      },
      "execution_count": null,
      "outputs": [
        {
          "output_type": "stream",
          "name": "stdout",
          "text": [
            "Empty DataFrame\n",
            "Columns: [id, title, content]\n",
            "Index: []\n"
          ]
        }
      ]
    },
    {
      "cell_type": "code",
      "source": [],
      "metadata": {
        "id": "jV3q92SaT_G6"
      },
      "execution_count": null,
      "outputs": []
    }
  ]
}